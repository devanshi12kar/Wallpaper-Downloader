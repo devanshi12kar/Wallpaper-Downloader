{
 "cells": [
  {
   "cell_type": "code",
   "execution_count": 3,
   "metadata": {},
   "outputs": [
    {
     "name": "stdout",
     "output_type": "stream",
     "text": [
      "Which kind of wallpaper you are searching for ?balloon\n",
      "enter the location where you want to saveE:\\check\n",
      "30\n",
      "https://images.alphacoders.com/448/thumb-350-4483.jpg\n",
      "https://images8.alphacoders.com/681/thumb-350-681545.jpg\n",
      "https://images3.alphacoders.com/774/thumb-350-774081.jpg\n",
      "https://images2.alphacoders.com/149/thumb-350-149912.jpg\n",
      "https://images5.alphacoders.com/715/thumb-350-715336.png\n",
      "https://images2.alphacoders.com/903/thumb-350-903338.jpg\n",
      "https://images2.alphacoders.com/773/thumb-350-773588.jpg\n",
      "https://images4.alphacoders.com/715/thumb-350-715334.png\n",
      "https://images5.alphacoders.com/697/thumb-350-697995.jpg\n",
      "https://images.alphacoders.com/716/thumb-350-716063.jpg\n",
      "https://images7.alphacoders.com/721/thumb-350-721176.jpg\n",
      "https://images6.alphacoders.com/459/thumb-350-459891.jpg\n",
      "https://images5.alphacoders.com/417/thumb-350-417087.jpg\n",
      "https://images5.alphacoders.com/439/thumb-350-439378.jpg\n",
      "https://images3.alphacoders.com/747/thumb-350-74797.jpg\n",
      "https://images8.alphacoders.com/529/thumb-350-529906.jpg\n",
      "https://images.alphacoders.com/441/thumb-350-441409.jpg\n",
      "https://images5.alphacoders.com/381/thumb-350-381282.jpg\n",
      "https://images2.alphacoders.com/514/thumb-350-514504.jpg\n",
      "https://images6.alphacoders.com/360/thumb-350-360471.jpg\n",
      "https://images8.alphacoders.com/423/thumb-350-423632.jpg\n",
      "https://images2.alphacoders.com/197/thumb-350-197862.jpg\n",
      "https://images3.alphacoders.com/114/thumb-350-114775.jpg\n",
      "https://images3.alphacoders.com/134/thumb-350-134869.jpg\n",
      "https://images6.alphacoders.com/360/thumb-350-360919.jpg\n",
      "https://images5.alphacoders.com/428/thumb-350-428016.jpg\n",
      "https://images7.alphacoders.com/434/thumb-350-434499.jpg\n",
      "https://images2.alphacoders.com/453/thumb-350-453432.jpg\n",
      "https://images7.alphacoders.com/446/thumb-350-446613.jpg\n",
      "https://images2.alphacoders.com/112/thumb-350-112322.jpg\n"
     ]
    }
   ],
   "source": [
    "import requests\n",
    "from selenium import webdriver\n",
    "from selenium.webdriver.common.keys import Keys\n",
    "import os\n",
    "import time \n",
    "\n",
    "def downloader(image_url,path):\n",
    "    \n",
    "    \n",
    "    \n",
    "    r = requests.get(image_url) \n",
    "    filename=image_url.split('/')[-1]\n",
    "    location = os.path.join(path,filename)\n",
    "    with open(location,'wb') as f:\n",
    " \n",
    "        f.write(r.content)    \n",
    "        \n",
    "        \n",
    "choice = input('Which kind of wallpaper you are searching for ?' )\n",
    "path =input(\"enter the location where you want to save\")\n",
    "\n",
    "driver = webdriver.Chrome()\n",
    "driver.get(\"https://wall.alphacoders.com\")\n",
    "\n",
    "\n",
    "elem = driver.find_element_by_name(\"search\")\n",
    "elem.clear()\n",
    "elem.send_keys(choice)\n",
    "elem.send_keys(Keys.RETURN)\n",
    "time.sleep(10)\n",
    "thumbnails = driver.find_elements_by_class_name('thumb-container')\n",
    "print(len(thumbnails))\n",
    "for thumbnail in thumbnails:\n",
    "    try:\n",
    "        image = thumbnail.find_element_by_tag_name('img')\n",
    "        src=image.get_attribute(\"src\")\n",
    "        print(src)\n",
    "        downloader(src,path)\n",
    "    except Exception as e:\n",
    "        print(e)\n",
    "driver.close()"
   ]
  },
  {
   "cell_type": "code",
   "execution_count": null,
   "metadata": {
    "collapsed": true
   },
   "outputs": [],
   "source": []
  }
 ],
 "metadata": {
  "kernelspec": {
   "display_name": "Python 3",
   "language": "python",
   "name": "python3"
  },
  "language_info": {
   "codemirror_mode": {
    "name": "ipython",
    "version": 3
   },
   "file_extension": ".py",
   "mimetype": "text/x-python",
   "name": "python",
   "nbconvert_exporter": "python",
   "pygments_lexer": "ipython3",
   "version": "3.6.3"
  }
 },
 "nbformat": 4,
 "nbformat_minor": 2
}
