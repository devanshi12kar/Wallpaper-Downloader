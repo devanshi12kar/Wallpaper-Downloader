{
 "cells": [
  {
   "cell_type": "code",
   "execution_count": 1,
   "metadata": {},
   "outputs": [
    {
     "name": "stdout",
     "output_type": "stream",
     "text": [
      "Which kind of wallpaper you are searching for ?shark\n",
      "enter the location where you want to saveD:\\check\n",
      "30\n",
      "https://images3.alphacoders.com/494/thumb-350-4947.jpg\n",
      "https://images.alphacoders.com/813/thumb-350-81301.jpg\n",
      "https://images2.alphacoders.com/704/thumb-350-70432.jpg\n",
      "https://images.alphacoders.com/189/thumb-350-189113.jpg\n",
      "https://images2.alphacoders.com/813/thumb-350-81302.jpg\n",
      "https://images.alphacoders.com/813/thumb-350-81303.jpg\n",
      "https://images4.alphacoders.com/113/thumb-350-113246.jpg\n",
      "https://images.alphacoders.com/445/thumb-350-445130.jpg\n",
      "https://images3.alphacoders.com/236/thumb-350-236049.jpg\n",
      "https://images.alphacoders.com/354/thumb-350-3543.jpg\n",
      "https://images2.alphacoders.com/863/thumb-350-863035.jpg\n",
      "https://images2.alphacoders.com/499/thumb-350-499604.jpg\n",
      "https://images2.alphacoders.com/545/thumb-350-545900.jpg\n",
      "https://images6.alphacoders.com/897/thumb-350-897358.jpg\n",
      "https://images.alphacoders.com/480/thumb-350-480287.jpg\n",
      "https://images5.alphacoders.com/561/thumb-350-561839.jpg\n",
      "https://images3.alphacoders.com/689/thumb-350-689511.jpg\n",
      "https://images7.alphacoders.com/461/thumb-350-461185.jpg\n",
      "https://images3.alphacoders.com/270/thumb-350-270865.jpg\n",
      "https://images.alphacoders.com/561/thumb-350-561843.jpg\n",
      "https://images6.alphacoders.com/502/thumb-350-502380.jpg\n",
      "https://images7.alphacoders.com/505/thumb-350-505474.jpg\n",
      "https://images8.alphacoders.com/804/thumb-350-804111.jpg\n",
      "https://images.alphacoders.com/502/thumb-350-502386.jpg\n",
      "https://images5.alphacoders.com/739/thumb-350-739464.jpg\n",
      "https://images5.alphacoders.com/474/thumb-350-474637.jpg\n",
      "https://images5.alphacoders.com/325/thumb-350-325821.jpg\n",
      "https://images5.alphacoders.com/344/thumb-350-344065.jpg\n",
      "https://images4.alphacoders.com/744/thumb-350-744640.jpg\n",
      "https://images8.alphacoders.com/863/thumb-350-863416.jpg\n"
     ]
    }
   ],
   "source": [
    "import requests\n",
    "from selenium import webdriver\n",
    "from selenium.webdriver.common.keys import Keys\n",
    "import os\n",
    "import time \n",
    "\n",
    "def downloader(image_url,path):\n",
    "    \n",
    "    \n",
    "    \n",
    "    r = requests.get(image_url) \n",
    "    filename=image_url.split('/')[-1]\n",
    "    location = os.path.join(path,filename)\n",
    "    with open(location,'wb') as f:\n",
    " \n",
    "        f.write(r.content)    \n",
    "        \n",
    "        \n",
    "choice = input('Which kind of wallpaper you are searching for ?' )\n",
    "path =input(\"enter the location where you want to save\")\n",
    "\n",
    "driver = webdriver.Chrome()\n",
    "driver.get(\"https://wall.alphacoders.com\")\n",
    "\n",
    "\n",
    "elem = driver.find_element_by_name(\"search\")\n",
    "elem.clear()\n",
    "elem.send_keys(choice)\n",
    "elem.send_keys(Keys.RETURN)\n",
    "time.sleep(10)\n",
    "thumbnails = driver.find_elements_by_class_name('thumb-container')\n",
    "print(len(thumbnails))\n",
    "for thumbnail in thumbnails:\n",
    "    try:\n",
    "        image = thumbnail.find_element_by_tag_name('img')\n",
    "        src=image.get_attribute(\"src\")\n",
    "        print(src)\n",
    "        downloader(src,path)\n",
    "    except Exception as e:\n",
    "        print(e)\n",
    "driver.close()"
   ]
  },
  {
   "cell_type": "code",
   "execution_count": 33,
   "metadata": {
    "collapsed": true
   },
   "outputs": [],
   "source": [
    "def downloader(image_url,path):\n",
    "    \n",
    "    \n",
    "    # URL of the image to be downloaded is defined as image_url\n",
    "    r = requests.get(image_url) # create HTTP response object\n",
    "    filename=image_url.split('/')[-1]\n",
    "    # path.append(filename)\n",
    "    # send a HTTP request to the server and save\n",
    "    # the HTTP response in a response object called r\n",
    "    #location = path +filename\n",
    "    location = os.path.join(path,filename)\n",
    "    with open(location,'wb') as f:\n",
    " \n",
    "    # Saving received content as a png file in\n",
    "    # binary format\n",
    " \n",
    "    # write the contents of the response (r.content)\n",
    "    # to a new file in binary mode.\n",
    "        f.write(r.content)    "
   ]
  },
  {
   "cell_type": "code",
   "execution_count": 34,
   "metadata": {},
   "outputs": [
    {
     "name": "stdout",
     "output_type": "stream",
     "text": [
      "Which kind of wallpaper you are searching for ?cat\n",
      "enter the location where you want to saveE:\\check\n",
      "30\n",
      "https://images4.alphacoders.com/206/thumb-350-20658.jpg\n",
      "https://images4.alphacoders.com/572/thumb-350-5726.jpg\n",
      "https://images3.alphacoders.com/235/thumb-350-235575.jpg\n",
      "https://images2.alphacoders.com/678/thumb-350-67800.jpg\n",
      "https://images3.alphacoders.com/737/thumb-350-73759.jpg\n",
      "https://images7.alphacoders.com/361/thumb-350-361863.jpg\n",
      "https://images6.alphacoders.com/383/thumb-350-383280.jpg\n",
      "https://images8.alphacoders.com/496/thumb-350-496528.jpg\n"
     ]
    },
    {
     "name": "stderr",
     "output_type": "stream",
     "text": [
      "From cffi callback <function _verify_callback at 0x0000016F652B2C80>:\n",
      "Traceback (most recent call last):\n",
      "  File \"C:\\Users\\hp\\AppData\\Local\\Continuum\\anaconda3\\lib\\site-packages\\OpenSSL\\SSL.py\", line 221, in wrapper\n",
      "    @wraps(callback)\n",
      "KeyboardInterrupt\n"
     ]
    },
    {
     "name": "stdout",
     "output_type": "stream",
     "text": [
      "HTTPSConnectionPool(host='images8.alphacoders.com', port=443): Max retries exceeded with url: /496/thumb-350-496528.jpg (Caused by SSLError(SSLError(\"bad handshake: Error([('SSL routines', 'ssl3_get_server_certificate', 'certificate verify failed')],)\",),))\n",
      "https://images2.alphacoders.com/110/thumb-350-110020.jpg\n",
      "https://images.alphacoders.com/519/thumb-350-51953.jpg\n",
      "https://images.alphacoders.com/439/thumb-350-439570.jpg\n",
      "https://images3.alphacoders.com/111/thumb-350-111689.jpg\n",
      "https://images2.alphacoders.com/201/thumb-350-201992.jpg\n",
      "https://images5.alphacoders.com/374/thumb-350-374329.jpg\n",
      "https://images6.alphacoders.com/334/thumb-350-334727.jpg\n",
      "https://images4.alphacoders.com/121/thumb-350-121678.jpg\n",
      "https://images3.alphacoders.com/116/thumb-350-116827.jpg\n",
      "https://images4.alphacoders.com/710/thumb-350-71068.jpg\n",
      "https://images5.alphacoders.com/336/thumb-350-336349.jpg\n",
      "https://images2.alphacoders.com/440/thumb-350-4400.jpg\n",
      "https://images3.alphacoders.com/375/thumb-350-375.jpg\n",
      "https://images5.alphacoders.com/347/thumb-350-347176.jpg\n",
      "https://images2.alphacoders.com/716/thumb-350-71660.jpg\n",
      "https://images4.alphacoders.com/111/thumb-350-111674.jpg\n",
      "https://images.alphacoders.com/206/thumb-350-20681.jpg\n",
      "https://images2.alphacoders.com/100/thumb-350-100510.jpg\n",
      "https://images2.alphacoders.com/108/thumb-350-108980.jpg\n",
      "https://images2.alphacoders.com/175/thumb-350-175470.jpg\n",
      "https://images2.alphacoders.com/157/thumb-350-157232.jpg\n",
      "https://images5.alphacoders.com/311/thumb-350-311642.jpg\n"
     ]
    }
   ],
   "source": [
    "choice = input('Which kind of wallpaper you are searching for ?' )\n",
    "path =input(\"enter the location where you want to save\")\n",
    "\n",
    "driver = webdriver.Chrome()\n",
    "driver.get(\"https://wall.alphacoders.com\")\n",
    "\n",
    "\n",
    "elem = driver.find_element_by_name(\"search\")\n",
    "elem.clear()\n",
    "elem.send_keys(choice)\n",
    "elem.send_keys(Keys.RETURN)\n",
    "time.sleep(10)\n",
    "thumbnails = driver.find_elements_by_class_name('thumb-container')\n",
    "print(len(thumbnails))\n",
    "for thumbnail in thumbnails:\n",
    "    try:\n",
    "        image = thumbnail.find_element_by_tag_name('img')\n",
    "        src=image.get_attribute(\"src\")\n",
    "        print(src)\n",
    "        downloader(src,path)\n",
    "    except Exception as e:\n",
    "        print(e)\n",
    "driver.close()"
   ]
  },
  {
   "cell_type": "code",
   "execution_count": 19,
   "metadata": {
    "collapsed": true
   },
   "outputs": [],
   "source": [
    "sw='https://images6.alphacoders.com/596/thumb-350-596508.jpg'"
   ]
  },
  {
   "cell_type": "code",
   "execution_count": 20,
   "metadata": {},
   "outputs": [
    {
     "name": "stdout",
     "output_type": "stream",
     "text": [
      "thumb-350-596508.jpg\n"
     ]
    }
   ],
   "source": [
    "filename=sw.split('/')[-1]\n",
    "print(filename)"
   ]
  },
  {
   "cell_type": "code",
   "execution_count": 21,
   "metadata": {},
   "outputs": [
    {
     "ename": "NameError",
     "evalue": "name 'items' is not defined",
     "output_type": "error",
     "traceback": [
      "\u001b[1;31m---------------------------------------------------------------------------\u001b[0m",
      "\u001b[1;31mNameError\u001b[0m                                 Traceback (most recent call last)",
      "\u001b[1;32m<ipython-input-21-b401c775eacd>\u001b[0m in \u001b[0;36m<module>\u001b[1;34m()\u001b[0m\n\u001b[1;32m----> 1\u001b[1;33m \u001b[0mitems\u001b[0m\u001b[1;33m[\u001b[0m\u001b[1;33m-\u001b[0m\u001b[1;36m1\u001b[0m\u001b[1;33m]\u001b[0m\u001b[1;33m\u001b[0m\u001b[0m\n\u001b[0m",
      "\u001b[1;31mNameError\u001b[0m: name 'items' is not defined"
     ]
    }
   ],
   "source": [
    "items[-1]"
   ]
  },
  {
   "cell_type": "code",
   "execution_count": null,
   "metadata": {
    "collapsed": true
   },
   "outputs": [],
   "source": []
  }
 ],
 "metadata": {
  "kernelspec": {
   "display_name": "Python 3",
   "language": "python",
   "name": "python3"
  },
  "language_info": {
   "codemirror_mode": {
    "name": "ipython",
    "version": 3
   },
   "file_extension": ".py",
   "mimetype": "text/x-python",
   "name": "python",
   "nbconvert_exporter": "python",
   "pygments_lexer": "ipython3",
   "version": "3.6.3"
  }
 },
 "nbformat": 4,
 "nbformat_minor": 2
}
